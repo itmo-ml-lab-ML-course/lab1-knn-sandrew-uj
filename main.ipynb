{
 "cells": [
  {
   "cell_type": "markdown",
   "source": [
    "# Лабораторная работа №1\n",
    "\n",
    "### работу выполнил Смирнов Андрей Сергеевич М3337\n"
   ],
   "metadata": {
    "collapsed": false
   },
   "id": "c03a3fb764556f7f"
  },
  {
   "cell_type": "markdown",
   "source": [
    "## Выгрузка данных из тензорфлоу и придание им числового вида"
   ],
   "metadata": {
    "collapsed": false
   },
   "id": "7f6b7aa53504f5c2"
  },
  {
   "cell_type": "code",
   "execution_count": 1,
   "id": "initial_id",
   "metadata": {
    "collapsed": true,
    "ExecuteTime": {
     "end_time": "2024-04-03T20:42:00.554774400Z",
     "start_time": "2024-04-03T20:41:23.139296200Z"
    }
   },
   "outputs": [
    {
     "data": {
      "text/plain": "array([[6],\n       [9],\n       [9],\n       ...,\n       [9],\n       [1],\n       [1]], dtype=uint8)"
     },
     "execution_count": 1,
     "metadata": {},
     "output_type": "execute_result"
    }
   ],
   "source": [
    "import tensorflow as tf\n",
    "from tensorflow.keras.datasets import cifar10\n",
    "from sklearn.preprocessing import StandardScaler\n",
    "\n",
    "# Загрузка датасета CIFAR-10\n",
    "(train_images, train_labels), (test_images, test_labels) = cifar10.load_data()\n",
    "train_labels"
   ]
  },
  {
   "cell_type": "code",
   "execution_count": 2,
   "outputs": [
    {
     "name": "stdout",
     "output_type": "stream",
     "text": [
      "Размеры обучающей выборки: (5000, 32, 32, 3) (5000, 1)\n",
      "Размеры тестовой выборки: (1000, 32, 32, 3) (1000, 1)\n",
      "[[-0.97621554 -1.0068297  -0.8550109  ... -0.06853879 -0.5380007\n",
      "  -0.6391327 ]\n",
      " [ 0.3037721   0.54991555  0.6665136  ...  0.23622699  0.10691439\n",
      "   0.43790096]\n",
      " [ 1.6646008   1.6057948   1.500898   ... -0.723785   -0.6323785\n",
      "  -0.45962706]\n",
      " ...\n",
      " [ 0.4789283   0.36039874  0.1511586  ... -1.3028398  -0.75821555\n",
      "  -0.45962706]\n",
      " [ 0.3037721   0.21149267 -0.09424865 ...  1.0133795   1.9000926\n",
      "  -0.01086311]\n",
      " [-1.1648452  -1.4129372  -1.370366   ...  0.43432465  0.24848108\n",
      "  -0.2202863 ]]\n",
      "[6 9 9 ... 5 4 6]\n"
     ]
    }
   ],
   "source": [
    "train_len = 5000\n",
    "test_len = 1000\n",
    "train_images = train_images[:train_len]\n",
    "train_labels = train_labels[:train_len]\n",
    "test_images = test_images[-test_len:]\n",
    "test_labels = test_labels[-test_len:]\n",
    "\n",
    "\n",
    "# Предобработка данных\n",
    "# Преобразование значений пикселей к диапазону от 0 до 1\n",
    "train_images = train_images.astype('float32') / 255.0\n",
    "test_images = test_images.astype('float32') / 255.0\n",
    "\n",
    "\n",
    "# Нормализация данных (стандартизация)\n",
    "scaler = StandardScaler()\n",
    "train_images = scaler.fit_transform(train_images.reshape(train_images.shape[0], -1)).reshape(train_images.shape)\n",
    "test_images = scaler.transform(test_images.reshape(test_images.shape[0], -1)).reshape(test_images.shape)\n",
    "\n",
    "# Вывод размеров данных\n",
    "print(\"Размеры обучающей выборки:\", train_images.shape, train_labels.shape)\n",
    "print(\"Размеры тестовой выборки:\", test_images.shape, test_labels.shape)\n",
    "\n",
    "# Преобразование изображений в двумерные массивы\n",
    "train_images_flat = train_images.reshape(train_images.shape[0], -1)\n",
    "test_images_flat = test_images.reshape(test_images.shape[0], -1)\n",
    "train_labels_flat = train_labels.flatten()\n",
    "test_labels_flat = test_labels.flatten()\n",
    "print(train_images_flat)\n",
    "print(train_labels_flat)"
   ],
   "metadata": {
    "collapsed": false,
    "ExecuteTime": {
     "end_time": "2024-04-03T20:42:01.010345100Z",
     "start_time": "2024-04-03T20:42:00.543264500Z"
    }
   },
   "id": "d2cb33e371e4edc5"
  },
  {
   "cell_type": "markdown",
   "source": [
    "## Реализация метода kNN"
   ],
   "metadata": {
    "collapsed": false
   },
   "id": "29974452506d1a4c"
  },
  {
   "cell_type": "code",
   "execution_count": 14,
   "outputs": [],
   "source": [
    "from scipy import stats\n",
    "import math\n",
    "\n",
    "from sklearn.neighbors import NearestNeighbors\n",
    "import numpy as np\n",
    "import pandas as pd\n",
    "\n",
    "class MyKNearestNeighbors:\n",
    "    weights: np.ndarray = None\n",
    "    kernels = {\n",
    "        'uniform': lambda x: stats.uniform.pdf(x, loc=-1, scale=2),\n",
    "        'gaussian': lambda x: 1/math.sqrt(2*math.pi)*math.exp(-(x**2/2)),\n",
    "        'triangular': lambda x: max(0,1-abs(x)),\n",
    "        'epanechnikov': lambda x: max(0, 0.75*(1-x**2))\n",
    "    }\n",
    "    metrics = ['manhattan', 'euclidean', 'cosine']\n",
    "    xs: pd.DataFrame = None\n",
    "    ys: np.ndarray = None\n",
    "    n_classes: int = 0\n",
    "\n",
    "    def __init__(\n",
    "            self,\n",
    "            n_neighbors: int = 3,\n",
    "            window_type: str = 'non_fixed',\n",
    "            window_param: float | None = None,\n",
    "            metric: str = 'euclidean',\n",
    "            weights: str = 'gaussian',\n",
    "            leaf_size: int = 30\n",
    "    ):\n",
    "        self.n_neighbors = n_neighbors if not n_neighbors is None else 3\n",
    "        self.window = window_param if window_type == 'fixed' else None\n",
    "        self.leaf_size = leaf_size\n",
    "        self.metric = metric\n",
    "        self.kernel = self.kernels[weights]\n",
    "\n",
    "    def fit(self, X, y, weights=None):\n",
    "        self.xs = X\n",
    "        self.ys = y\n",
    "        self.cls_num = len(np.unique(y))\n",
    "        self.weights = weights if weights is not None else np.array([1.0] * len(y))\n",
    "        return self\n",
    "\n",
    "    def predict(self, X):\n",
    "        n_neighbors = self.n_neighbors + 1 if self.window is None else self.n_neighbors\n",
    "        dists, ids = NearestNeighbors(n_neighbors=n_neighbors, metric=self.metric).fit(self.xs).kneighbors(X, n_neighbors=n_neighbors)\n",
    "        \n",
    "        cls = [self.ys[i] for i in ids]         # only for int one-dimension\n",
    "        ws = [[self.weights[j] for j in i] for i in ids]\n",
    "\n",
    "        length = len(X)\n",
    "        results = np.array([0]*length)\n",
    "        for i in range(length):\n",
    "            d, c, w = dists[i], cls[i], ws[i]\n",
    "            scores = [0]*self.cls_num\n",
    "            \n",
    "            for j in range(len(d)-1):\n",
    "                kernel_arg = d[j]/(self.window if self.window else d[-1])\n",
    "                scores[c[j]] += self.kernel(kernel_arg) * w[j]\n",
    "            results[i] = scores.index(max(scores))\n",
    "\n",
    "        return results"
   ],
   "metadata": {
    "collapsed": false,
    "ExecuteTime": {
     "end_time": "2024-04-03T21:03:58.329551800Z",
     "start_time": "2024-04-03T21:03:58.310228200Z"
    }
   },
   "id": "59796b8f94b66240"
  },
  {
   "cell_type": "code",
   "execution_count": 15,
   "outputs": [
    {
     "name": "stdout",
     "output_type": "stream",
     "text": [
      "Точность классификации модели <class '__main__.MyKNearestNeighbors'>: 0.254\n",
      "Точность классификации модели <class 'sklearn.neighbors._classification.KNeighborsClassifier'>: 0.254\n"
     ]
    }
   ],
   "source": [
    "from sklearn.neighbors import KNeighborsClassifier\n",
    "from sklearn.metrics import accuracy_score\n",
    "\n",
    "# Пример использования на своей модели и уже готовой библиотечной\n",
    "for model in [MyKNearestNeighbors, KNeighborsClassifier]:\n",
    "    # Создание и обучение модели\n",
    "    knn = model(n_neighbors=3, weights='uniform', metric='euclidean')\n",
    "    knn.fit(train_images_flat, train_labels_flat)\n",
    "    \n",
    "    # Предсказание меток для тестовых данных\n",
    "    predicted_labels = knn.predict(test_images_flat)\n",
    "    \n",
    "    # Оценка точности предсказаний\n",
    "    accuracy = accuracy_score(test_labels_flat, predicted_labels)\n",
    "    print(f\"Точность классификации модели {model}: {accuracy}\")"
   ],
   "metadata": {
    "collapsed": false,
    "ExecuteTime": {
     "end_time": "2024-04-03T21:04:01.936601300Z",
     "start_time": "2024-04-03T21:04:00.576044400Z"
    }
   },
   "id": "8302369b578f64c0"
  },
  {
   "cell_type": "markdown",
   "source": [
    "Как видно из результатов, точность классификации совпадают для нашей и библиотечной модели хотя бы для этих гиперпараметрах, а значит мы движемся в правильном направлении! Теперь давайте перейдем к этапу подбора гиперпараметров"
   ],
   "metadata": {
    "collapsed": false
   },
   "id": "dbd83015fb3bb169"
  },
  {
   "cell_type": "markdown",
   "source": [
    "## Подбор гиперпараметров\n",
    "Для этого будем использовать библиотеку optuna"
   ],
   "metadata": {
    "collapsed": false
   },
   "id": "95a411fe2b1845ff"
  },
  {
   "cell_type": "code",
   "execution_count": 34,
   "outputs": [
    {
     "name": "stderr",
     "output_type": "stream",
     "text": [
      "[I 2024-04-03 20:57:46,115] A new study created in memory with name: no-name-96ecf806-92af-4d0f-b24f-85fe95223e13\n"
     ]
    },
    {
     "data": {
      "text/plain": "  0%|          | 0/100 [00:00<?, ?it/s]",
      "application/vnd.jupyter.widget-view+json": {
       "version_major": 2,
       "version_minor": 0,
       "model_id": "a39fc29d12e943a6a9f977fd6ef67bb6"
      }
     },
     "metadata": {},
     "output_type": "display_data"
    },
    {
     "name": "stdout",
     "output_type": "stream",
     "text": [
      "[I 2024-04-03 20:57:51,248] Trial 0 finished with value: 0.107 and parameters: {'metric': 'manhattan', 'kernel': 'triangular', 'window_type': 'fixed', 'window_param': 0.6112115951861521}. Best is trial 0 with value: 0.107.\n",
      "[I 2024-04-03 20:57:55,344] Trial 1 finished with value: 0.107 and parameters: {'metric': 'manhattan', 'kernel': 'gaussian', 'window_type': 'fixed', 'window_param': 0.06281432285407615}. Best is trial 0 with value: 0.107.\n",
      "[I 2024-04-03 20:58:03,385] Trial 2 finished with value: 0.247 and parameters: {'metric': 'euclidean', 'kernel': 'uniform', 'window_type': 'non_fixed', 'n_neighbors': 93}. Best is trial 2 with value: 0.247.\n",
      "[I 2024-04-03 20:58:07,772] Trial 3 finished with value: 0.107 and parameters: {'metric': 'manhattan', 'kernel': 'uniform', 'window_type': 'fixed', 'window_param': 0.7739180371982081}. Best is trial 2 with value: 0.247.\n",
      "[I 2024-04-03 20:58:08,457] Trial 4 finished with value: 0.107 and parameters: {'metric': 'euclidean', 'kernel': 'triangular', 'window_type': 'fixed', 'window_param': 0.538082949806844}. Best is trial 2 with value: 0.247.\n",
      "[I 2024-04-03 20:58:09,086] Trial 5 finished with value: 0.305 and parameters: {'metric': 'cosine', 'kernel': 'uniform', 'window_type': 'fixed', 'window_param': 0.7217976777225739}. Best is trial 5 with value: 0.305.\n",
      "[I 2024-04-03 20:58:09,892] Trial 6 finished with value: 0.107 and parameters: {'metric': 'euclidean', 'kernel': 'uniform', 'window_type': 'fixed', 'window_param': 0.7153428322871076}. Best is trial 5 with value: 0.305.\n",
      "[I 2024-04-03 20:58:17,401] Trial 7 finished with value: 0.247 and parameters: {'metric': 'euclidean', 'kernel': 'uniform', 'window_type': 'non_fixed', 'n_neighbors': 78}. Best is trial 5 with value: 0.305.\n",
      "[I 2024-04-03 20:58:21,640] Trial 8 finished with value: 0.107 and parameters: {'metric': 'manhattan', 'kernel': 'epanechnikov', 'window_type': 'fixed', 'window_param': 0.3536554030016366}. Best is trial 5 with value: 0.305.\n",
      "[I 2024-04-03 20:58:25,552] Trial 9 finished with value: 0.288 and parameters: {'metric': 'manhattan', 'kernel': 'triangular', 'window_type': 'non_fixed', 'n_neighbors': 93}. Best is trial 5 with value: 0.305.\n",
      "[I 2024-04-03 20:58:25,910] Trial 10 finished with value: 0.329 and parameters: {'metric': 'cosine', 'kernel': 'gaussian', 'window_type': 'non_fixed', 'n_neighbors': 3}. Best is trial 10 with value: 0.329.\n",
      "[I 2024-04-03 20:58:26,224] Trial 11 finished with value: 0.349 and parameters: {'metric': 'cosine', 'kernel': 'gaussian', 'window_type': 'non_fixed', 'n_neighbors': 8}. Best is trial 11 with value: 0.349.\n",
      "[I 2024-04-03 20:58:26,502] Trial 12 finished with value: 0.307 and parameters: {'metric': 'cosine', 'kernel': 'gaussian', 'window_type': 'non_fixed', 'n_neighbors': 2}. Best is trial 11 with value: 0.349.\n",
      "[I 2024-04-03 20:58:26,799] Trial 13 finished with value: 0.329 and parameters: {'metric': 'cosine', 'kernel': 'gaussian', 'window_type': 'non_fixed', 'n_neighbors': 3}. Best is trial 11 with value: 0.349.\n",
      "[I 2024-04-03 20:58:27,198] Trial 14 finished with value: 0.329 and parameters: {'metric': 'cosine', 'kernel': 'gaussian', 'window_type': 'non_fixed', 'n_neighbors': 31}. Best is trial 11 with value: 0.349.\n",
      "[I 2024-04-03 20:58:27,590] Trial 15 finished with value: 0.339 and parameters: {'metric': 'cosine', 'kernel': 'gaussian', 'window_type': 'non_fixed', 'n_neighbors': 29}. Best is trial 11 with value: 0.349.\n",
      "[I 2024-04-03 20:58:28,041] Trial 16 finished with value: 0.362 and parameters: {'metric': 'cosine', 'kernel': 'epanechnikov', 'window_type': 'non_fixed', 'n_neighbors': 34}. Best is trial 16 with value: 0.362.\n",
      "[I 2024-04-03 20:58:28,571] Trial 17 finished with value: 0.365 and parameters: {'metric': 'cosine', 'kernel': 'epanechnikov', 'window_type': 'non_fixed', 'n_neighbors': 32}. Best is trial 17 with value: 0.365.\n",
      "[I 2024-04-03 20:58:29,153] Trial 18 finished with value: 0.356 and parameters: {'metric': 'cosine', 'kernel': 'epanechnikov', 'window_type': 'non_fixed', 'n_neighbors': 51}. Best is trial 17 with value: 0.365.\n",
      "[I 2024-04-03 20:58:29,922] Trial 19 finished with value: 0.356 and parameters: {'metric': 'cosine', 'kernel': 'epanechnikov', 'window_type': 'non_fixed', 'n_neighbors': 46}. Best is trial 17 with value: 0.365.\n",
      "[I 2024-04-03 20:58:30,478] Trial 20 finished with value: 0.366 and parameters: {'metric': 'cosine', 'kernel': 'epanechnikov', 'window_type': 'non_fixed', 'n_neighbors': 28}. Best is trial 20 with value: 0.366.\n",
      "[I 2024-04-03 20:58:30,974] Trial 21 finished with value: 0.366 and parameters: {'metric': 'cosine', 'kernel': 'epanechnikov', 'window_type': 'non_fixed', 'n_neighbors': 28}. Best is trial 20 with value: 0.366.\n",
      "[I 2024-04-03 20:58:31,687] Trial 22 finished with value: 0.369 and parameters: {'metric': 'cosine', 'kernel': 'epanechnikov', 'window_type': 'non_fixed', 'n_neighbors': 18}. Best is trial 22 with value: 0.369.\n",
      "[I 2024-04-03 20:58:32,276] Trial 23 finished with value: 0.369 and parameters: {'metric': 'cosine', 'kernel': 'epanechnikov', 'window_type': 'non_fixed', 'n_neighbors': 18}. Best is trial 22 with value: 0.369.\n",
      "[I 2024-04-03 20:58:32,768] Trial 24 finished with value: 0.369 and parameters: {'metric': 'cosine', 'kernel': 'epanechnikov', 'window_type': 'non_fixed', 'n_neighbors': 17}. Best is trial 22 with value: 0.369.\n",
      "[I 2024-04-03 20:58:33,354] Trial 25 finished with value: 0.374 and parameters: {'metric': 'cosine', 'kernel': 'epanechnikov', 'window_type': 'non_fixed', 'n_neighbors': 15}. Best is trial 25 with value: 0.374.\n",
      "[I 2024-04-03 20:58:34,012] Trial 26 finished with value: 0.369 and parameters: {'metric': 'cosine', 'kernel': 'epanechnikov', 'window_type': 'non_fixed', 'n_neighbors': 17}. Best is trial 25 with value: 0.374.\n",
      "[I 2024-04-03 20:58:34,579] Trial 27 finished with value: 0.372 and parameters: {'metric': 'cosine', 'kernel': 'epanechnikov', 'window_type': 'non_fixed', 'n_neighbors': 16}. Best is trial 25 with value: 0.374.\n",
      "[I 2024-04-03 20:58:35,108] Trial 28 finished with value: 0.357 and parameters: {'metric': 'cosine', 'kernel': 'epanechnikov', 'window_type': 'non_fixed', 'n_neighbors': 47}. Best is trial 25 with value: 0.374.\n",
      "[I 2024-04-03 20:58:35,949] Trial 29 finished with value: 0.268 and parameters: {'metric': 'euclidean', 'kernel': 'triangular', 'window_type': 'non_fixed', 'n_neighbors': 60}. Best is trial 25 with value: 0.374.\n",
      "[I 2024-04-03 20:58:39,634] Trial 30 finished with value: 0.316 and parameters: {'metric': 'manhattan', 'kernel': 'epanechnikov', 'window_type': 'non_fixed', 'n_neighbors': 14}. Best is trial 25 with value: 0.374.\n",
      "[I 2024-04-03 20:58:40,052] Trial 31 finished with value: 0.369 and parameters: {'metric': 'cosine', 'kernel': 'epanechnikov', 'window_type': 'non_fixed', 'n_neighbors': 18}. Best is trial 25 with value: 0.374.\n",
      "[I 2024-04-03 20:58:40,407] Trial 32 finished with value: 0.368 and parameters: {'metric': 'cosine', 'kernel': 'epanechnikov', 'window_type': 'non_fixed', 'n_neighbors': 20}. Best is trial 25 with value: 0.374.\n",
      "[I 2024-04-03 20:58:40,726] Trial 33 finished with value: 0.349 and parameters: {'metric': 'cosine', 'kernel': 'epanechnikov', 'window_type': 'non_fixed', 'n_neighbors': 8}. Best is trial 25 with value: 0.374.\n",
      "[I 2024-04-03 20:58:40,990] Trial 34 finished with value: 0.307 and parameters: {'metric': 'cosine', 'kernel': 'epanechnikov', 'window_type': 'fixed', 'window_param': 0.988207683951194}. Best is trial 25 with value: 0.374.\n",
      "[I 2024-04-03 20:58:44,456] Trial 35 finished with value: 0.315 and parameters: {'metric': 'manhattan', 'kernel': 'epanechnikov', 'window_type': 'non_fixed', 'n_neighbors': 23}. Best is trial 25 with value: 0.374.\n",
      "[I 2024-04-03 20:58:44,899] Trial 36 finished with value: 0.107 and parameters: {'metric': 'euclidean', 'kernel': 'triangular', 'window_type': 'fixed', 'window_param': 0.03448479824978118}. Best is trial 25 with value: 0.374.\n",
      "[I 2024-04-03 20:58:45,373] Trial 37 finished with value: 0.354 and parameters: {'metric': 'cosine', 'kernel': 'epanechnikov', 'window_type': 'non_fixed', 'n_neighbors': 40}. Best is trial 25 with value: 0.374.\n",
      "[I 2024-04-03 20:58:45,745] Trial 38 finished with value: 0.185 and parameters: {'metric': 'cosine', 'kernel': 'uniform', 'window_type': 'fixed', 'window_param': 0.2951388896085916}. Best is trial 25 with value: 0.374.\n",
      "[I 2024-04-03 20:58:46,180] Trial 39 finished with value: 0.278 and parameters: {'metric': 'euclidean', 'kernel': 'epanechnikov', 'window_type': 'non_fixed', 'n_neighbors': 11}. Best is trial 25 with value: 0.374.\n",
      "[I 2024-04-03 20:58:49,597] Trial 40 finished with value: 0.318 and parameters: {'metric': 'manhattan', 'kernel': 'triangular', 'window_type': 'non_fixed', 'n_neighbors': 23}. Best is trial 25 with value: 0.374.\n",
      "[I 2024-04-03 20:58:50,011] Trial 41 finished with value: 0.369 and parameters: {'metric': 'cosine', 'kernel': 'epanechnikov', 'window_type': 'non_fixed', 'n_neighbors': 13}. Best is trial 25 with value: 0.374.\n",
      "[I 2024-04-03 20:58:50,443] Trial 42 finished with value: 0.366 and parameters: {'metric': 'cosine', 'kernel': 'epanechnikov', 'window_type': 'non_fixed', 'n_neighbors': 22}. Best is trial 25 with value: 0.374.\n",
      "[I 2024-04-03 20:58:50,979] Trial 43 finished with value: 0.355 and parameters: {'metric': 'cosine', 'kernel': 'epanechnikov', 'window_type': 'non_fixed', 'n_neighbors': 38}. Best is trial 25 with value: 0.374.\n",
      "[I 2024-04-03 20:58:56,706] Trial 44 finished with value: 0.319 and parameters: {'metric': 'cosine', 'kernel': 'uniform', 'window_type': 'non_fixed', 'n_neighbors': 66}. Best is trial 25 with value: 0.374.\n",
      "[I 2024-04-03 20:58:57,006] Trial 45 finished with value: 0.307 and parameters: {'metric': 'cosine', 'kernel': 'epanechnikov', 'window_type': 'fixed', 'window_param': 0.9182442503746464}. Best is trial 25 with value: 0.374.\n",
      "[I 2024-04-03 20:58:57,683] Trial 46 finished with value: 0.328 and parameters: {'metric': 'cosine', 'kernel': 'epanechnikov', 'window_type': 'non_fixed', 'n_neighbors': 95}. Best is trial 25 with value: 0.374.\n",
      "[I 2024-04-03 20:58:58,151] Trial 47 finished with value: 0.27 and parameters: {'metric': 'euclidean', 'kernel': 'epanechnikov', 'window_type': 'non_fixed', 'n_neighbors': 8}. Best is trial 25 with value: 0.374.\n",
      "[I 2024-04-03 20:59:04,955] Trial 48 finished with value: 0.311 and parameters: {'metric': 'cosine', 'kernel': 'uniform', 'window_type': 'non_fixed', 'n_neighbors': 80}. Best is trial 25 with value: 0.374.\n",
      "[I 2024-04-03 20:59:08,368] Trial 49 finished with value: 0.107 and parameters: {'metric': 'manhattan', 'kernel': 'epanechnikov', 'window_type': 'fixed', 'window_param': 0.2706877446834113}. Best is trial 25 with value: 0.374.\n",
      "[I 2024-04-03 20:59:08,645] Trial 50 finished with value: 0.307 and parameters: {'metric': 'cosine', 'kernel': 'triangular', 'window_type': 'non_fixed', 'n_neighbors': 1}. Best is trial 25 with value: 0.374.\n",
      "[I 2024-04-03 20:59:08,986] Trial 51 finished with value: 0.369 and parameters: {'metric': 'cosine', 'kernel': 'epanechnikov', 'window_type': 'non_fixed', 'n_neighbors': 17}. Best is trial 25 with value: 0.374.\n",
      "[I 2024-04-03 20:59:09,338] Trial 52 finished with value: 0.369 and parameters: {'metric': 'cosine', 'kernel': 'epanechnikov', 'window_type': 'non_fixed', 'n_neighbors': 17}. Best is trial 25 with value: 0.374.\n",
      "[I 2024-04-03 20:59:09,742] Trial 53 finished with value: 0.367 and parameters: {'metric': 'cosine', 'kernel': 'epanechnikov', 'window_type': 'non_fixed', 'n_neighbors': 25}. Best is trial 25 with value: 0.374.\n",
      "[I 2024-04-03 20:59:10,069] Trial 54 finished with value: 0.361 and parameters: {'metric': 'cosine', 'kernel': 'epanechnikov', 'window_type': 'non_fixed', 'n_neighbors': 11}. Best is trial 25 with value: 0.374.\n",
      "[I 2024-04-03 20:59:10,382] Trial 55 finished with value: 0.349 and parameters: {'metric': 'cosine', 'kernel': 'gaussian', 'window_type': 'non_fixed', 'n_neighbors': 7}. Best is trial 25 with value: 0.374.\n",
      "[I 2024-04-03 20:59:10,732] Trial 56 finished with value: 0.369 and parameters: {'metric': 'cosine', 'kernel': 'epanechnikov', 'window_type': 'non_fixed', 'n_neighbors': 17}. Best is trial 25 with value: 0.374.\n",
      "[I 2024-04-03 20:59:11,141] Trial 57 finished with value: 0.362 and parameters: {'metric': 'cosine', 'kernel': 'epanechnikov', 'window_type': 'non_fixed', 'n_neighbors': 35}. Best is trial 25 with value: 0.374.\n",
      "[I 2024-04-03 20:59:11,445] Trial 58 finished with value: 0.335 and parameters: {'metric': 'cosine', 'kernel': 'epanechnikov', 'window_type': 'non_fixed', 'n_neighbors': 5}. Best is trial 25 with value: 0.374.\n",
      "[I 2024-04-03 20:59:11,820] Trial 59 finished with value: 0.363 and parameters: {'metric': 'cosine', 'kernel': 'epanechnikov', 'window_type': 'non_fixed', 'n_neighbors': 27}. Best is trial 25 with value: 0.374.\n",
      "[I 2024-04-03 20:59:12,312] Trial 60 finished with value: 0.275 and parameters: {'metric': 'euclidean', 'kernel': 'gaussian', 'window_type': 'non_fixed', 'n_neighbors': 14}. Best is trial 25 with value: 0.374.\n",
      "[I 2024-04-03 20:59:12,683] Trial 61 finished with value: 0.368 and parameters: {'metric': 'cosine', 'kernel': 'epanechnikov', 'window_type': 'non_fixed', 'n_neighbors': 20}. Best is trial 25 with value: 0.374.\n",
      "[I 2024-04-03 20:59:13,037] Trial 62 finished with value: 0.369 and parameters: {'metric': 'cosine', 'kernel': 'epanechnikov', 'window_type': 'non_fixed', 'n_neighbors': 17}. Best is trial 25 with value: 0.374.\n",
      "[I 2024-04-03 20:59:13,384] Trial 63 finished with value: 0.361 and parameters: {'metric': 'cosine', 'kernel': 'epanechnikov', 'window_type': 'non_fixed', 'n_neighbors': 11}. Best is trial 25 with value: 0.374.\n",
      "[I 2024-04-03 20:59:13,745] Trial 64 finished with value: 0.368 and parameters: {'metric': 'cosine', 'kernel': 'epanechnikov', 'window_type': 'non_fixed', 'n_neighbors': 19}. Best is trial 25 with value: 0.374.\n",
      "[I 2024-04-03 20:59:14,125] Trial 65 finished with value: 0.365 and parameters: {'metric': 'cosine', 'kernel': 'epanechnikov', 'window_type': 'non_fixed', 'n_neighbors': 24}. Best is trial 25 with value: 0.374.\n",
      "[I 2024-04-03 20:59:20,237] Trial 66 finished with value: 0.274 and parameters: {'metric': 'manhattan', 'kernel': 'uniform', 'window_type': 'non_fixed', 'n_neighbors': 31}. Best is trial 25 with value: 0.374.\n",
      "[I 2024-04-03 20:59:20,506] Trial 67 finished with value: 0.26 and parameters: {'metric': 'cosine', 'kernel': 'epanechnikov', 'window_type': 'fixed', 'window_param': 0.42748998553589196}. Best is trial 25 with value: 0.374.\n",
      "[I 2024-04-03 20:59:20,828] Trial 68 finished with value: 0.327 and parameters: {'metric': 'cosine', 'kernel': 'epanechnikov', 'window_type': 'non_fixed', 'n_neighbors': 4}. Best is trial 25 with value: 0.374.\n",
      "[I 2024-04-03 20:59:21,166] Trial 69 finished with value: 0.374 and parameters: {'metric': 'cosine', 'kernel': 'epanechnikov', 'window_type': 'non_fixed', 'n_neighbors': 14}. Best is trial 25 with value: 0.374.\n",
      "[I 2024-04-03 20:59:21,487] Trial 70 finished with value: 0.36 and parameters: {'metric': 'cosine', 'kernel': 'triangular', 'window_type': 'non_fixed', 'n_neighbors': 12}. Best is trial 25 with value: 0.374.\n",
      "[I 2024-04-03 20:59:22,115] Trial 71 finished with value: 0.326 and parameters: {'metric': 'cosine', 'kernel': 'epanechnikov', 'window_type': 'non_fixed', 'n_neighbors': 100}. Best is trial 25 with value: 0.374.\n",
      "[I 2024-04-03 20:59:22,477] Trial 72 finished with value: 0.371 and parameters: {'metric': 'cosine', 'kernel': 'epanechnikov', 'window_type': 'non_fixed', 'n_neighbors': 21}. Best is trial 25 with value: 0.374.\n",
      "[I 2024-04-03 20:59:22,864] Trial 73 finished with value: 0.363 and parameters: {'metric': 'cosine', 'kernel': 'epanechnikov', 'window_type': 'non_fixed', 'n_neighbors': 27}. Best is trial 25 with value: 0.374.\n",
      "[I 2024-04-03 20:59:23,207] Trial 74 finished with value: 0.374 and parameters: {'metric': 'cosine', 'kernel': 'epanechnikov', 'window_type': 'non_fixed', 'n_neighbors': 15}. Best is trial 25 with value: 0.374.\n",
      "[I 2024-04-03 20:59:23,524] Trial 75 finished with value: 0.354 and parameters: {'metric': 'cosine', 'kernel': 'epanechnikov', 'window_type': 'non_fixed', 'n_neighbors': 9}. Best is trial 25 with value: 0.374.\n",
      "[I 2024-04-03 20:59:23,856] Trial 76 finished with value: 0.374 and parameters: {'metric': 'cosine', 'kernel': 'epanechnikov', 'window_type': 'non_fixed', 'n_neighbors': 14}. Best is trial 25 with value: 0.374.\n",
      "[I 2024-04-03 20:59:24,226] Trial 77 finished with value: 0.371 and parameters: {'metric': 'cosine', 'kernel': 'epanechnikov', 'window_type': 'non_fixed', 'n_neighbors': 21}. Best is trial 25 with value: 0.374.\n",
      "[I 2024-04-03 20:59:24,571] Trial 78 finished with value: 0.374 and parameters: {'metric': 'cosine', 'kernel': 'epanechnikov', 'window_type': 'non_fixed', 'n_neighbors': 14}. Best is trial 25 with value: 0.374.\n",
      "[I 2024-04-03 20:59:25,041] Trial 79 finished with value: 0.275 and parameters: {'metric': 'euclidean', 'kernel': 'gaussian', 'window_type': 'non_fixed', 'n_neighbors': 14}. Best is trial 25 with value: 0.374.\n",
      "[I 2024-04-03 20:59:25,359] Trial 80 finished with value: 0.335 and parameters: {'metric': 'cosine', 'kernel': 'epanechnikov', 'window_type': 'non_fixed', 'n_neighbors': 6}. Best is trial 25 with value: 0.374.\n",
      "[I 2024-04-03 20:59:25,720] Trial 81 finished with value: 0.371 and parameters: {'metric': 'cosine', 'kernel': 'epanechnikov', 'window_type': 'non_fixed', 'n_neighbors': 21}. Best is trial 25 with value: 0.374.\n",
      "[I 2024-04-03 20:59:26,123] Trial 82 finished with value: 0.366 and parameters: {'metric': 'cosine', 'kernel': 'epanechnikov', 'window_type': 'non_fixed', 'n_neighbors': 22}. Best is trial 25 with value: 0.374.\n",
      "[I 2024-04-03 20:59:26,538] Trial 83 finished with value: 0.374 and parameters: {'metric': 'cosine', 'kernel': 'epanechnikov', 'window_type': 'non_fixed', 'n_neighbors': 14}. Best is trial 25 with value: 0.374.\n",
      "[I 2024-04-03 20:59:26,871] Trial 84 finished with value: 0.374 and parameters: {'metric': 'cosine', 'kernel': 'epanechnikov', 'window_type': 'non_fixed', 'n_neighbors': 14}. Best is trial 25 with value: 0.374.\n",
      "[I 2024-04-03 20:59:30,188] Trial 85 finished with value: 0.316 and parameters: {'metric': 'manhattan', 'kernel': 'epanechnikov', 'window_type': 'non_fixed', 'n_neighbors': 15}. Best is trial 25 with value: 0.374.\n",
      "[I 2024-04-03 20:59:30,461] Trial 86 finished with value: 0.127 and parameters: {'metric': 'cosine', 'kernel': 'epanechnikov', 'window_type': 'fixed', 'window_param': 0.16392471832519778}. Best is trial 25 with value: 0.374.\n",
      "[I 2024-04-03 20:59:31,466] Trial 87 finished with value: 0.34 and parameters: {'metric': 'cosine', 'kernel': 'uniform', 'window_type': 'non_fixed', 'n_neighbors': 10}. Best is trial 25 with value: 0.374.\n",
      "[I 2024-04-03 20:59:31,800] Trial 88 finished with value: 0.369 and parameters: {'metric': 'cosine', 'kernel': 'epanechnikov', 'window_type': 'non_fixed', 'n_neighbors': 13}. Best is trial 25 with value: 0.374.\n",
      "[I 2024-04-03 20:59:32,099] Trial 89 finished with value: 0.326 and parameters: {'metric': 'cosine', 'kernel': 'triangular', 'window_type': 'non_fixed', 'n_neighbors': 4}. Best is trial 25 with value: 0.374.\n",
      "[I 2024-04-03 20:59:32,411] Trial 90 finished with value: 0.349 and parameters: {'metric': 'cosine', 'kernel': 'epanechnikov', 'window_type': 'non_fixed', 'n_neighbors': 8}. Best is trial 25 with value: 0.374.\n",
      "[I 2024-04-03 20:59:32,757] Trial 91 finished with value: 0.374 and parameters: {'metric': 'cosine', 'kernel': 'epanechnikov', 'window_type': 'non_fixed', 'n_neighbors': 15}. Best is trial 25 with value: 0.374.\n",
      "[I 2024-04-03 20:59:33,111] Trial 92 finished with value: 0.374 and parameters: {'metric': 'cosine', 'kernel': 'epanechnikov', 'window_type': 'non_fixed', 'n_neighbors': 15}. Best is trial 25 with value: 0.374.\n",
      "[I 2024-04-03 20:59:33,491] Trial 93 finished with value: 0.374 and parameters: {'metric': 'cosine', 'kernel': 'epanechnikov', 'window_type': 'non_fixed', 'n_neighbors': 15}. Best is trial 25 with value: 0.374.\n",
      "[I 2024-04-03 20:59:33,835] Trial 94 finished with value: 0.374 and parameters: {'metric': 'cosine', 'kernel': 'epanechnikov', 'window_type': 'non_fixed', 'n_neighbors': 15}. Best is trial 25 with value: 0.374.\n",
      "[I 2024-04-03 20:59:34,161] Trial 95 finished with value: 0.307 and parameters: {'metric': 'cosine', 'kernel': 'epanechnikov', 'window_type': 'non_fixed', 'n_neighbors': 2}. Best is trial 25 with value: 0.374.\n",
      "[I 2024-04-03 20:59:34,489] Trial 96 finished with value: 0.361 and parameters: {'metric': 'cosine', 'kernel': 'epanechnikov', 'window_type': 'non_fixed', 'n_neighbors': 11}. Best is trial 25 with value: 0.374.\n",
      "[I 2024-04-03 20:59:34,856] Trial 97 finished with value: 0.367 and parameters: {'metric': 'cosine', 'kernel': 'epanechnikov', 'window_type': 'non_fixed', 'n_neighbors': 25}. Best is trial 25 with value: 0.374.\n",
      "[I 2024-04-03 20:59:35,444] Trial 98 finished with value: 0.267 and parameters: {'metric': 'euclidean', 'kernel': 'epanechnikov', 'window_type': 'non_fixed', 'n_neighbors': 62}. Best is trial 25 with value: 0.374.\n",
      "[I 2024-04-03 20:59:35,825] Trial 99 finished with value: 0.345 and parameters: {'metric': 'cosine', 'kernel': 'gaussian', 'window_type': 'non_fixed', 'n_neighbors': 13}. Best is trial 25 with value: 0.374.\n",
      "Лучшие гиперпараметры для моей модели: {'metric': 'cosine', 'kernel': 'epanechnikov', 'window_type': 'non_fixed', 'n_neighbors': 15}\n"
     ]
    }
   ],
   "source": [
    "import optuna\n",
    "\n",
    "def my_objective(trial):\n",
    "    # Определение гиперпараметров для настройки\n",
    "    # weights = trial.suggest_categorical('weights', ['uniform', 'distance'])\n",
    "    metric = trial.suggest_categorical('metric', MyKNearestNeighbors.metrics)\n",
    "    kernel = trial.suggest_categorical('kernel', MyKNearestNeighbors.kernels.keys())\n",
    "    window_type = trial.suggest_categorical('window_type', ['non_fixed', 'fixed'])\n",
    "    window_param = trial.suggest_float('window_param', 0.01, 1) if window_type == 'fixed' else None\n",
    "    n_neighbors = trial.suggest_int('n_neighbors', 1, 100) if window_type == 'non_fixed' else None\n",
    "    \n",
    "    knn = MyKNearestNeighbors(\n",
    "        n_neighbors=n_neighbors, \n",
    "        weights=kernel, \n",
    "        metric=metric,\n",
    "        window_type=window_type,\n",
    "        window_param=window_param,\n",
    "    )\n",
    "    knn.fit(train_images_flat, train_labels_flat)\n",
    "    y_pred = knn.predict(test_images_flat)\n",
    "    return accuracy_score(test_labels_flat, y_pred)\n",
    "\n",
    "# Создание объекта study для оптимизации гиперпараметров\n",
    "study = optuna.create_study(direction='maximize')\n",
    "study.optimize(my_objective, n_trials=100, show_progress_bar=True)\n",
    "\n",
    "# Вывод лучших найденных значений гиперпараметров\n",
    "best_params = study.best_params\n",
    "print(f\"Лучшие гиперпараметры для моей модели: {best_params}\")"
   ],
   "metadata": {
    "collapsed": false,
    "ExecuteTime": {
     "end_time": "2024-04-03T17:59:35.844677800Z",
     "start_time": "2024-04-03T17:57:46.099245500Z"
    }
   },
   "id": "109a870fbd785192"
  },
  {
   "cell_type": "code",
   "execution_count": 35,
   "outputs": [
    {
     "name": "stderr",
     "output_type": "stream",
     "text": [
      "[I 2024-04-03 20:59:35,845] A new study created in memory with name: no-name-8593853c-3a4a-40a2-91b9-a0f0eb32be7f\n"
     ]
    },
    {
     "data": {
      "text/plain": "  0%|          | 0/100 [00:00<?, ?it/s]",
      "application/vnd.jupyter.widget-view+json": {
       "version_major": 2,
       "version_minor": 0,
       "model_id": "60137c824ff2491aa4c543ab1cf4f9e3"
      }
     },
     "metadata": {},
     "output_type": "display_data"
    },
    {
     "name": "stdout",
     "output_type": "stream",
     "text": [
      "[I 2024-04-03 20:59:36,319] Trial 0 finished with value: 0.259 and parameters: {'n_neighbors': 1, 'weights': 'distance'}. Best is trial 0 with value: 0.259.\n",
      "[I 2024-04-03 20:59:36,748] Trial 1 finished with value: 0.259 and parameters: {'n_neighbors': 2, 'weights': 'distance'}. Best is trial 0 with value: 0.259.\n",
      "[I 2024-04-03 20:59:37,178] Trial 2 finished with value: 0.268 and parameters: {'n_neighbors': 4, 'weights': 'distance'}. Best is trial 2 with value: 0.268.\n",
      "[I 2024-04-03 20:59:37,631] Trial 3 finished with value: 0.268 and parameters: {'n_neighbors': 4, 'weights': 'distance'}. Best is trial 2 with value: 0.268.\n",
      "[I 2024-04-03 20:59:38,086] Trial 4 finished with value: 0.258 and parameters: {'n_neighbors': 9, 'weights': 'uniform'}. Best is trial 2 with value: 0.268.\n",
      "[I 2024-04-03 20:59:38,519] Trial 5 finished with value: 0.265 and parameters: {'n_neighbors': 4, 'weights': 'uniform'}. Best is trial 2 with value: 0.268.\n",
      "[I 2024-04-03 20:59:38,980] Trial 6 finished with value: 0.27 and parameters: {'n_neighbors': 3, 'weights': 'distance'}. Best is trial 6 with value: 0.27.\n",
      "[I 2024-04-03 20:59:39,410] Trial 7 finished with value: 0.272 and parameters: {'n_neighbors': 10, 'weights': 'distance'}. Best is trial 7 with value: 0.272.\n",
      "[I 2024-04-03 20:59:39,840] Trial 8 finished with value: 0.268 and parameters: {'n_neighbors': 4, 'weights': 'distance'}. Best is trial 7 with value: 0.272.\n",
      "[I 2024-04-03 20:59:40,256] Trial 9 finished with value: 0.262 and parameters: {'n_neighbors': 10, 'weights': 'uniform'}. Best is trial 7 with value: 0.272.\n",
      "[I 2024-04-03 20:59:40,671] Trial 10 finished with value: 0.27 and parameters: {'n_neighbors': 7, 'weights': 'uniform'}. Best is trial 7 with value: 0.272.\n",
      "[I 2024-04-03 20:59:41,120] Trial 11 finished with value: 0.277 and parameters: {'n_neighbors': 7, 'weights': 'distance'}. Best is trial 11 with value: 0.277.\n",
      "[I 2024-04-03 20:59:41,568] Trial 12 finished with value: 0.277 and parameters: {'n_neighbors': 7, 'weights': 'distance'}. Best is trial 11 with value: 0.277.\n",
      "[I 2024-04-03 20:59:42,016] Trial 13 finished with value: 0.278 and parameters: {'n_neighbors': 6, 'weights': 'distance'}. Best is trial 13 with value: 0.278.\n",
      "[I 2024-04-03 20:59:42,440] Trial 14 finished with value: 0.277 and parameters: {'n_neighbors': 7, 'weights': 'distance'}. Best is trial 13 with value: 0.278.\n",
      "[I 2024-04-03 20:59:42,915] Trial 15 finished with value: 0.278 and parameters: {'n_neighbors': 6, 'weights': 'distance'}. Best is trial 13 with value: 0.278.\n",
      "[I 2024-04-03 20:59:43,332] Trial 16 finished with value: 0.278 and parameters: {'n_neighbors': 6, 'weights': 'distance'}. Best is trial 13 with value: 0.278.\n",
      "[I 2024-04-03 20:59:43,822] Trial 17 finished with value: 0.278 and parameters: {'n_neighbors': 6, 'weights': 'distance'}. Best is trial 13 with value: 0.278.\n",
      "[I 2024-04-03 20:59:44,355] Trial 18 finished with value: 0.259 and parameters: {'n_neighbors': 8, 'weights': 'uniform'}. Best is trial 13 with value: 0.278.\n",
      "[I 2024-04-03 20:59:44,880] Trial 19 finished with value: 0.281 and parameters: {'n_neighbors': 5, 'weights': 'distance'}. Best is trial 19 with value: 0.281.\n",
      "[I 2024-04-03 20:59:45,405] Trial 20 finished with value: 0.281 and parameters: {'n_neighbors': 5, 'weights': 'distance'}. Best is trial 19 with value: 0.281.\n",
      "[I 2024-04-03 20:59:45,934] Trial 21 finished with value: 0.281 and parameters: {'n_neighbors': 5, 'weights': 'distance'}. Best is trial 19 with value: 0.281.\n",
      "[I 2024-04-03 20:59:46,363] Trial 22 finished with value: 0.281 and parameters: {'n_neighbors': 5, 'weights': 'distance'}. Best is trial 19 with value: 0.281.\n",
      "[I 2024-04-03 20:59:46,821] Trial 23 finished with value: 0.281 and parameters: {'n_neighbors': 5, 'weights': 'distance'}. Best is trial 19 with value: 0.281.\n",
      "[I 2024-04-03 20:59:47,269] Trial 24 finished with value: 0.27 and parameters: {'n_neighbors': 3, 'weights': 'distance'}. Best is trial 19 with value: 0.281.\n",
      "[I 2024-04-03 20:59:47,723] Trial 25 finished with value: 0.281 and parameters: {'n_neighbors': 5, 'weights': 'distance'}. Best is trial 19 with value: 0.281.\n",
      "[I 2024-04-03 20:59:48,159] Trial 26 finished with value: 0.254 and parameters: {'n_neighbors': 3, 'weights': 'uniform'}. Best is trial 19 with value: 0.281.\n",
      "[I 2024-04-03 20:59:48,610] Trial 27 finished with value: 0.281 and parameters: {'n_neighbors': 5, 'weights': 'distance'}. Best is trial 19 with value: 0.281.\n",
      "[I 2024-04-03 20:59:49,081] Trial 28 finished with value: 0.272 and parameters: {'n_neighbors': 8, 'weights': 'distance'}. Best is trial 19 with value: 0.281.\n",
      "[I 2024-04-03 20:59:49,641] Trial 29 finished with value: 0.259 and parameters: {'n_neighbors': 2, 'weights': 'distance'}. Best is trial 19 with value: 0.281.\n",
      "[I 2024-04-03 20:59:50,080] Trial 30 finished with value: 0.259 and parameters: {'n_neighbors': 1, 'weights': 'distance'}. Best is trial 19 with value: 0.281.\n",
      "[I 2024-04-03 20:59:50,507] Trial 31 finished with value: 0.281 and parameters: {'n_neighbors': 5, 'weights': 'distance'}. Best is trial 19 with value: 0.281.\n",
      "[I 2024-04-03 20:59:50,933] Trial 32 finished with value: 0.281 and parameters: {'n_neighbors': 5, 'weights': 'distance'}. Best is trial 19 with value: 0.281.\n",
      "[I 2024-04-03 20:59:51,375] Trial 33 finished with value: 0.268 and parameters: {'n_neighbors': 4, 'weights': 'distance'}. Best is trial 19 with value: 0.281.\n",
      "[I 2024-04-03 20:59:51,847] Trial 34 finished with value: 0.278 and parameters: {'n_neighbors': 6, 'weights': 'distance'}. Best is trial 19 with value: 0.281.\n",
      "[I 2024-04-03 20:59:52,333] Trial 35 finished with value: 0.268 and parameters: {'n_neighbors': 4, 'weights': 'distance'}. Best is trial 19 with value: 0.281.\n",
      "[I 2024-04-03 20:59:52,803] Trial 36 finished with value: 0.27 and parameters: {'n_neighbors': 3, 'weights': 'distance'}. Best is trial 19 with value: 0.281.\n",
      "[I 2024-04-03 20:59:53,225] Trial 37 finished with value: 0.272 and parameters: {'n_neighbors': 5, 'weights': 'uniform'}. Best is trial 19 with value: 0.281.\n",
      "[I 2024-04-03 20:59:53,654] Trial 38 finished with value: 0.268 and parameters: {'n_neighbors': 4, 'weights': 'distance'}. Best is trial 19 with value: 0.281.\n",
      "[I 2024-04-03 20:59:54,078] Trial 39 finished with value: 0.259 and parameters: {'n_neighbors': 2, 'weights': 'distance'}. Best is trial 19 with value: 0.281.\n",
      "[I 2024-04-03 20:59:54,492] Trial 40 finished with value: 0.268 and parameters: {'n_neighbors': 4, 'weights': 'distance'}. Best is trial 19 with value: 0.281.\n",
      "[I 2024-04-03 20:59:54,920] Trial 41 finished with value: 0.281 and parameters: {'n_neighbors': 5, 'weights': 'distance'}. Best is trial 19 with value: 0.281.\n",
      "[I 2024-04-03 20:59:55,365] Trial 42 finished with value: 0.281 and parameters: {'n_neighbors': 5, 'weights': 'distance'}. Best is trial 19 with value: 0.281.\n",
      "[I 2024-04-03 20:59:55,788] Trial 43 finished with value: 0.278 and parameters: {'n_neighbors': 6, 'weights': 'distance'}. Best is trial 19 with value: 0.281.\n",
      "[I 2024-04-03 20:59:56,224] Trial 44 finished with value: 0.272 and parameters: {'n_neighbors': 5, 'weights': 'uniform'}. Best is trial 19 with value: 0.281.\n",
      "[I 2024-04-03 20:59:56,643] Trial 45 finished with value: 0.268 and parameters: {'n_neighbors': 4, 'weights': 'distance'}. Best is trial 19 with value: 0.281.\n",
      "[I 2024-04-03 20:59:57,073] Trial 46 finished with value: 0.277 and parameters: {'n_neighbors': 7, 'weights': 'distance'}. Best is trial 19 with value: 0.281.\n",
      "[I 2024-04-03 20:59:57,525] Trial 47 finished with value: 0.278 and parameters: {'n_neighbors': 6, 'weights': 'distance'}. Best is trial 19 with value: 0.281.\n",
      "[I 2024-04-03 20:59:57,951] Trial 48 finished with value: 0.268 and parameters: {'n_neighbors': 4, 'weights': 'distance'}. Best is trial 19 with value: 0.281.\n",
      "[I 2024-04-03 20:59:58,366] Trial 49 finished with value: 0.254 and parameters: {'n_neighbors': 3, 'weights': 'uniform'}. Best is trial 19 with value: 0.281.\n",
      "[I 2024-04-03 20:59:58,786] Trial 50 finished with value: 0.278 and parameters: {'n_neighbors': 6, 'weights': 'distance'}. Best is trial 19 with value: 0.281.\n",
      "[I 2024-04-03 20:59:59,206] Trial 51 finished with value: 0.281 and parameters: {'n_neighbors': 5, 'weights': 'distance'}. Best is trial 19 with value: 0.281.\n",
      "[I 2024-04-03 20:59:59,666] Trial 52 finished with value: 0.281 and parameters: {'n_neighbors': 5, 'weights': 'distance'}. Best is trial 19 with value: 0.281.\n",
      "[I 2024-04-03 21:00:00,097] Trial 53 finished with value: 0.281 and parameters: {'n_neighbors': 5, 'weights': 'distance'}. Best is trial 19 with value: 0.281.\n",
      "[I 2024-04-03 21:00:00,512] Trial 54 finished with value: 0.268 and parameters: {'n_neighbors': 4, 'weights': 'distance'}. Best is trial 19 with value: 0.281.\n",
      "[I 2024-04-03 21:00:00,941] Trial 55 finished with value: 0.278 and parameters: {'n_neighbors': 6, 'weights': 'distance'}. Best is trial 19 with value: 0.281.\n",
      "[I 2024-04-03 21:00:01,365] Trial 56 finished with value: 0.277 and parameters: {'n_neighbors': 7, 'weights': 'distance'}. Best is trial 19 with value: 0.281.\n",
      "[I 2024-04-03 21:00:01,799] Trial 57 finished with value: 0.278 and parameters: {'n_neighbors': 6, 'weights': 'distance'}. Best is trial 19 with value: 0.281.\n",
      "[I 2024-04-03 21:00:02,217] Trial 58 finished with value: 0.272 and parameters: {'n_neighbors': 5, 'weights': 'uniform'}. Best is trial 19 with value: 0.281.\n",
      "[I 2024-04-03 21:00:02,656] Trial 59 finished with value: 0.268 and parameters: {'n_neighbors': 4, 'weights': 'distance'}. Best is trial 19 with value: 0.281.\n",
      "[I 2024-04-03 21:00:03,079] Trial 60 finished with value: 0.272 and parameters: {'n_neighbors': 8, 'weights': 'distance'}. Best is trial 19 with value: 0.281.\n",
      "[I 2024-04-03 21:00:03,506] Trial 61 finished with value: 0.281 and parameters: {'n_neighbors': 5, 'weights': 'distance'}. Best is trial 19 with value: 0.281.\n",
      "[I 2024-04-03 21:00:03,925] Trial 62 finished with value: 0.281 and parameters: {'n_neighbors': 5, 'weights': 'distance'}. Best is trial 19 with value: 0.281.\n",
      "[I 2024-04-03 21:00:04,348] Trial 63 finished with value: 0.281 and parameters: {'n_neighbors': 5, 'weights': 'distance'}. Best is trial 19 with value: 0.281.\n",
      "[I 2024-04-03 21:00:04,777] Trial 64 finished with value: 0.278 and parameters: {'n_neighbors': 6, 'weights': 'distance'}. Best is trial 19 with value: 0.281.\n",
      "[I 2024-04-03 21:00:05,195] Trial 65 finished with value: 0.268 and parameters: {'n_neighbors': 4, 'weights': 'distance'}. Best is trial 19 with value: 0.281.\n",
      "[I 2024-04-03 21:00:05,628] Trial 66 finished with value: 0.281 and parameters: {'n_neighbors': 5, 'weights': 'distance'}. Best is trial 19 with value: 0.281.\n",
      "[I 2024-04-03 21:00:06,054] Trial 67 finished with value: 0.278 and parameters: {'n_neighbors': 6, 'weights': 'distance'}. Best is trial 19 with value: 0.281.\n",
      "[I 2024-04-03 21:00:06,497] Trial 68 finished with value: 0.27 and parameters: {'n_neighbors': 3, 'weights': 'distance'}. Best is trial 19 with value: 0.281.\n",
      "[I 2024-04-03 21:00:06,942] Trial 69 finished with value: 0.268 and parameters: {'n_neighbors': 4, 'weights': 'distance'}. Best is trial 19 with value: 0.281.\n",
      "[I 2024-04-03 21:00:07,378] Trial 70 finished with value: 0.272 and parameters: {'n_neighbors': 5, 'weights': 'uniform'}. Best is trial 19 with value: 0.281.\n",
      "[I 2024-04-03 21:00:07,792] Trial 71 finished with value: 0.281 and parameters: {'n_neighbors': 5, 'weights': 'distance'}. Best is trial 19 with value: 0.281.\n",
      "[I 2024-04-03 21:00:08,225] Trial 72 finished with value: 0.281 and parameters: {'n_neighbors': 5, 'weights': 'distance'}. Best is trial 19 with value: 0.281.\n",
      "[I 2024-04-03 21:00:08,665] Trial 73 finished with value: 0.278 and parameters: {'n_neighbors': 6, 'weights': 'distance'}. Best is trial 19 with value: 0.281.\n",
      "[I 2024-04-03 21:00:09,085] Trial 74 finished with value: 0.281 and parameters: {'n_neighbors': 5, 'weights': 'distance'}. Best is trial 19 with value: 0.281.\n",
      "[I 2024-04-03 21:00:09,531] Trial 75 finished with value: 0.268 and parameters: {'n_neighbors': 4, 'weights': 'distance'}. Best is trial 19 with value: 0.281.\n",
      "[I 2024-04-03 21:00:09,952] Trial 76 finished with value: 0.278 and parameters: {'n_neighbors': 6, 'weights': 'distance'}. Best is trial 19 with value: 0.281.\n",
      "[I 2024-04-03 21:00:10,419] Trial 77 finished with value: 0.281 and parameters: {'n_neighbors': 5, 'weights': 'distance'}. Best is trial 19 with value: 0.281.\n",
      "[I 2024-04-03 21:00:10,850] Trial 78 finished with value: 0.268 and parameters: {'n_neighbors': 4, 'weights': 'distance'}. Best is trial 19 with value: 0.281.\n",
      "[I 2024-04-03 21:00:11,280] Trial 79 finished with value: 0.277 and parameters: {'n_neighbors': 7, 'weights': 'distance'}. Best is trial 19 with value: 0.281.\n",
      "[I 2024-04-03 21:00:11,723] Trial 80 finished with value: 0.268 and parameters: {'n_neighbors': 4, 'weights': 'distance'}. Best is trial 19 with value: 0.281.\n",
      "[I 2024-04-03 21:00:12,259] Trial 81 finished with value: 0.281 and parameters: {'n_neighbors': 5, 'weights': 'distance'}. Best is trial 19 with value: 0.281.\n",
      "[I 2024-04-03 21:00:12,788] Trial 82 finished with value: 0.281 and parameters: {'n_neighbors': 5, 'weights': 'distance'}. Best is trial 19 with value: 0.281.\n",
      "[I 2024-04-03 21:00:13,295] Trial 83 finished with value: 0.278 and parameters: {'n_neighbors': 6, 'weights': 'distance'}. Best is trial 19 with value: 0.281.\n",
      "[I 2024-04-03 21:00:13,730] Trial 84 finished with value: 0.281 and parameters: {'n_neighbors': 5, 'weights': 'distance'}. Best is trial 19 with value: 0.281.\n",
      "[I 2024-04-03 21:00:14,204] Trial 85 finished with value: 0.265 and parameters: {'n_neighbors': 4, 'weights': 'uniform'}. Best is trial 19 with value: 0.281.\n",
      "[I 2024-04-03 21:00:14,684] Trial 86 finished with value: 0.281 and parameters: {'n_neighbors': 5, 'weights': 'distance'}. Best is trial 19 with value: 0.281.\n",
      "[I 2024-04-03 21:00:15,151] Trial 87 finished with value: 0.277 and parameters: {'n_neighbors': 9, 'weights': 'distance'}. Best is trial 19 with value: 0.281.\n",
      "[I 2024-04-03 21:00:15,656] Trial 88 finished with value: 0.278 and parameters: {'n_neighbors': 6, 'weights': 'distance'}. Best is trial 19 with value: 0.281.\n",
      "[I 2024-04-03 21:00:16,100] Trial 89 finished with value: 0.281 and parameters: {'n_neighbors': 5, 'weights': 'distance'}. Best is trial 19 with value: 0.281.\n",
      "[I 2024-04-03 21:00:16,530] Trial 90 finished with value: 0.281 and parameters: {'n_neighbors': 5, 'weights': 'distance'}. Best is trial 19 with value: 0.281.\n",
      "[I 2024-04-03 21:00:17,013] Trial 91 finished with value: 0.281 and parameters: {'n_neighbors': 5, 'weights': 'distance'}. Best is trial 19 with value: 0.281.\n",
      "[I 2024-04-03 21:00:17,499] Trial 92 finished with value: 0.281 and parameters: {'n_neighbors': 5, 'weights': 'distance'}. Best is trial 19 with value: 0.281.\n",
      "[I 2024-04-03 21:00:18,126] Trial 93 finished with value: 0.268 and parameters: {'n_neighbors': 4, 'weights': 'distance'}. Best is trial 19 with value: 0.281.\n",
      "[I 2024-04-03 21:00:18,673] Trial 94 finished with value: 0.278 and parameters: {'n_neighbors': 6, 'weights': 'distance'}. Best is trial 19 with value: 0.281.\n",
      "[I 2024-04-03 21:00:19,204] Trial 95 finished with value: 0.281 and parameters: {'n_neighbors': 5, 'weights': 'distance'}. Best is trial 19 with value: 0.281.\n",
      "[I 2024-04-03 21:00:19,717] Trial 96 finished with value: 0.281 and parameters: {'n_neighbors': 5, 'weights': 'distance'}. Best is trial 19 with value: 0.281.\n",
      "[I 2024-04-03 21:00:20,272] Trial 97 finished with value: 0.265 and parameters: {'n_neighbors': 4, 'weights': 'uniform'}. Best is trial 19 with value: 0.281.\n",
      "[I 2024-04-03 21:00:20,820] Trial 98 finished with value: 0.278 and parameters: {'n_neighbors': 6, 'weights': 'distance'}. Best is trial 19 with value: 0.281.\n",
      "[I 2024-04-03 21:00:21,280] Trial 99 finished with value: 0.281 and parameters: {'n_neighbors': 5, 'weights': 'distance'}. Best is trial 19 with value: 0.281.\n",
      "Лучшие гиперпараметры для библиотечной модели: {'n_neighbors': 5, 'weights': 'distance'}\n"
     ]
    }
   ],
   "source": [
    "import optuna\n",
    "\n",
    "def lib_objective(trial):\n",
    "    # Определение гиперпараметров для настройки\n",
    "    n_neighbors = trial.suggest_int('n_neighbors', 1, 10)\n",
    "    weights = trial.suggest_categorical('weights', ['uniform', 'distance'])\n",
    "    \n",
    "    knn = KNeighborsClassifier(\n",
    "        n_neighbors=n_neighbors, \n",
    "        weights=weights, \n",
    "    )\n",
    "    knn.fit(train_images_flat, train_labels_flat)\n",
    "    y_pred = knn.predict(test_images_flat)\n",
    "    return accuracy_score(test_labels_flat, y_pred)\n",
    "\n",
    "# Создание объекта study для оптимизации гиперпараметров\n",
    "study = optuna.create_study(direction='maximize')\n",
    "study.optimize(lib_objective, n_trials=100, show_progress_bar=True)\n",
    "\n",
    "# Вывод лучших найденных значений гиперпараметров\n",
    "best_params = study.best_params\n",
    "print(f\"Лучшие гиперпараметры для библиотечной модели: {best_params}\")"
   ],
   "metadata": {
    "collapsed": false,
    "ExecuteTime": {
     "end_time": "2024-04-03T18:00:21.305057700Z",
     "start_time": "2024-04-03T17:59:35.845682100Z"
    }
   },
   "id": "6f6c576fbb288110"
  },
  {
   "cell_type": "markdown",
   "source": [
    "## Графики в зависимости от n_neighbours и размера окна"
   ],
   "metadata": {
    "collapsed": false
   },
   "id": "e62c1bf917ffe08c"
  },
  {
   "cell_type": "code",
   "execution_count": 9,
   "outputs": [],
   "source": [
    "def get_my_accuracy_by_neighbors(n_neighbors, images, labels):\n",
    "    knn = MyKNearestNeighbors(\n",
    "        n_neighbors=n_neighbors, \n",
    "        weights='epanechnikov', \n",
    "        metric='cosine',\n",
    "        window_type='non_fixed',\n",
    "    )\n",
    "    knn.fit(train_images_flat, train_labels_flat)\n",
    "    y_pred = knn.predict(images)\n",
    "    return accuracy_score(labels, y_pred)\n",
    "\n",
    "def get_lib_accuracy_by_neighbors(n_neighbors, images, labels):\n",
    "    knn = KNeighborsClassifier(\n",
    "        n_neighbors=n_neighbors,\n",
    "        weights='distance',\n",
    "    )\n",
    "    knn.fit(train_images_flat, train_labels_flat)\n",
    "    y_pred = knn.predict(images)\n",
    "    return accuracy_score(labels, y_pred)\n",
    "\n",
    "def get_my_accuracy_by_window_size(window_size, images, labels):\n",
    "    knn = MyKNearestNeighbors(\n",
    "        n_neighbors=15, \n",
    "        weights='epanechnikov', \n",
    "        metric='cosine',\n",
    "        window_type='fixed',\n",
    "        window_param=window_size,\n",
    "    )\n",
    "    knn.fit(train_images_flat, train_labels_flat)\n",
    "    y_pred = knn.predict(images)\n",
    "    return accuracy_score(labels, y_pred)"
   ],
   "metadata": {
    "collapsed": false,
    "ExecuteTime": {
     "end_time": "2024-04-03T21:01:18.740424900Z",
     "start_time": "2024-04-03T21:01:18.729853700Z"
    }
   },
   "id": "34a227e1fd87b5f3"
  },
  {
   "cell_type": "markdown",
   "source": [
    "### Для n_neighbors"
   ],
   "metadata": {
    "collapsed": false
   },
   "id": "f7f438634b98172a"
  },
  {
   "cell_type": "code",
   "execution_count": 37,
   "outputs": [
    {
     "data": {
      "text/plain": "<Figure size 640x480 with 1 Axes>",
      "image/png": "[encoded data removed]"
     },
     "metadata": {},
     "output_type": "display_data"
    }
   ],
   "source": [
    "import matplotlib.pyplot as plt\n",
    "\n",
    "neighbors_range = [k for k in range(1, 100)]\n",
    "\n",
    "my_train = [get_my_accuracy_by_neighbors(k, train_images_flat, train_labels_flat) for k in neighbors_range]\n",
    "lib_train = [get_lib_accuracy_by_neighbors(k, train_images_flat, train_labels_flat) for k in neighbors_range]\n",
    "my_test = [get_my_accuracy_by_neighbors(k, test_images_flat, test_labels_flat) for k in neighbors_range]\n",
    "lib_test = [get_lib_accuracy_by_neighbors(k, test_images_flat, test_labels_flat) for k in neighbors_range]\n",
    "\n",
    "plt.plot(neighbors_range, my_train, label='my train')\n",
    "plt.plot(neighbors_range, my_test, label='my test')\n",
    "plt.plot(neighbors_range, lib_train, label='lib train')\n",
    "plt.plot(neighbors_range, lib_test, label='lib test')\n",
    "plt.legend()\n",
    "plt.xlabel('n_neighbors')\n",
    "plt.ylabel('accuracy')\n",
    "plt.show()"
   ],
   "metadata": {
    "collapsed": false,
    "ExecuteTime": {
     "end_time": "2024-04-03T18:07:31.903479600Z",
     "start_time": "2024-04-03T18:00:21.340866Z"
    }
   },
   "id": "81c57449ce1a3d79"
  },
  {
   "cell_type": "markdown",
   "source": [
    "### Для размера окна"
   ],
   "metadata": {
    "collapsed": false
   },
   "id": "1c7f21e9e84108c7"
  },
  {
   "cell_type": "code",
   "execution_count": 12,
   "outputs": [
    {
     "data": {
      "text/plain": "<Figure size 640x480 with 1 Axes>",
      "image/png": "[encoded data removed]"
     },
     "metadata": {},
     "output_type": "display_data"
    }
   ],
   "source": [
    "window_sizes = [k * 0.01 for k in range(1, 100)]\n",
    "my_train = [get_my_accuracy_by_window_size(k, train_images_flat, train_labels_flat) for k in neighbors_range]\n",
    "my_test = [get_my_accuracy_by_window_size(k, test_images_flat, test_labels_flat) for k in neighbors_range]\n",
    "\n",
    "\n",
    "plt.plot(neighbors_range, my_train, label='my train')\n",
    "plt.plot(neighbors_range, my_test, label='my test')\n",
    "plt.legend()\n",
    "plt.xlabel('window_size')\n",
    "plt.ylabel('accuracy')\n",
    "plt.show()"
   ],
   "metadata": {
    "collapsed": false,
    "ExecuteTime": {
     "end_time": "2024-03-26T19:07:46.052020500Z",
     "start_time": "2024-03-26T19:05:30.688225900Z"
    }
   },
   "id": "bee001cbd07ac153"
  },
  {
   "cell_type": "markdown",
   "source": [
    "## Поиск аномалий"
   ],
   "metadata": {
    "collapsed": false
   },
   "id": "e67b1649f54e4634"
  },
  {
   "cell_type": "markdown",
   "source": [
    "## Реализация LOWESS"
   ],
   "metadata": {
    "collapsed": false
   },
   "id": "7e5ad3cd6418e0c4"
  },
  {
   "cell_type": "code",
   "execution_count": 4,
   "outputs": [],
   "source": [
    "def my_lowess(X, y, knn):\n",
    "    anomaly_idxs = []\n",
    "    for i in range(len(X)):\n",
    "        X1 = np.delete(X, i, axis=0)\n",
    "        y1 = np.delete(y, i, axis=0)\n",
    "        knn.fit(X1, y1)\n",
    "        y_pred = knn.predict([X[i]])[0]\n",
    "        # print(f\"i = {i}, y_pred={y_pred}, y[i]={y[i]}\")\n",
    "        if y_pred != y[i]:\n",
    "            anomaly_idxs.append(i)\n",
    "    weights = np.array([1.] * len(X))\n",
    "    weights[anomaly_idxs] *= 0.1\n",
    "    return weights"
   ],
   "metadata": {
    "collapsed": false,
    "ExecuteTime": {
     "end_time": "2024-04-03T20:42:02.382283800Z",
     "start_time": "2024-04-03T20:42:02.369415400Z"
    }
   },
   "id": "10d77309f4b5749d"
  },
  {
   "cell_type": "markdown",
   "source": [
    "### Реализация с моим knn"
   ],
   "metadata": {
    "collapsed": false
   },
   "id": "1eef764ff9a52abd"
  },
  {
   "cell_type": "code",
   "execution_count": 16,
   "outputs": [],
   "source": [
    "knn = MyKNearestNeighbors(\n",
    "        n_neighbors=16, \n",
    "        weights='triangular',  \n",
    "        metric='cosine',\n",
    "        window_type='non_fixed',\n",
    "    )"
   ],
   "metadata": {
    "collapsed": false,
    "ExecuteTime": {
     "end_time": "2024-04-03T21:04:10.011116600Z",
     "start_time": "2024-04-03T21:04:09.990636500Z"
    }
   },
   "id": "4fc43172182629e3"
  },
  {
   "cell_type": "code",
   "execution_count": 5,
   "outputs": [
    {
     "data": {
      "text/plain": "array([1. , 0.1, 1. , ..., 0.1, 0.1, 0.1])"
     },
     "execution_count": 5,
     "metadata": {},
     "output_type": "execute_result"
    }
   ],
   "source": [
    "train_weights = my_lowess(\n",
    "    train_images_flat, \n",
    "    train_labels_flat, \n",
    "    knn\n",
    ")\n",
    "train_weights"
   ],
   "metadata": {
    "collapsed": false,
    "ExecuteTime": {
     "end_time": "2024-04-03T20:51:46.926374400Z",
     "start_time": "2024-04-03T20:42:02.384300500Z"
    }
   },
   "id": "aefd76c3cd3c4937"
  },
  {
   "cell_type": "code",
   "execution_count": 17,
   "outputs": [
    {
     "name": "stdout",
     "output_type": "stream",
     "text": [
      "with weights = 0.332\n",
      "without weights = 0.374\n"
     ]
    }
   ],
   "source": [
    "knn.fit(train_images_flat, train_labels_flat, weights=train_weights)\n",
    "y_pred = knn.predict(test_images_flat)\n",
    "print(f\"with weights = {accuracy_score(test_labels_flat, y_pred)}\")\n",
    "\n",
    "knn.fit(train_images_flat, train_labels_flat)\n",
    "y_pred = knn.predict(test_images_flat)\n",
    "print(f\"without weights = {accuracy_score(test_labels_flat, y_pred)}\")"
   ],
   "metadata": {
    "collapsed": false,
    "ExecuteTime": {
     "end_time": "2024-04-03T21:04:22.666170200Z",
     "start_time": "2024-04-03T21:04:21.872282600Z"
    }
   },
   "id": "4e290cff9f3af2a2"
  },
  {
   "cell_type": "markdown",
   "source": [
    "### Реализация с библиотечным knn"
   ],
   "metadata": {
    "collapsed": false
   },
   "id": "15cf75f00d2cb7e4"
  },
  {
   "cell_type": "code",
   "execution_count": 18,
   "outputs": [],
   "source": [
    "knn1 = KNeighborsClassifier(\n",
    "        n_neighbors=3,\n",
    "    )"
   ],
   "metadata": {
    "collapsed": false,
    "ExecuteTime": {
     "end_time": "2024-04-03T21:14:16.343487300Z",
     "start_time": "2024-04-03T21:14:16.318401200Z"
    }
   },
   "id": "4a977b8f7140ff35"
  },
  {
   "cell_type": "code",
   "execution_count": 19,
   "outputs": [
    {
     "data": {
      "text/plain": "array([1. , 0.1, 0.1, ..., 0.1, 0.1, 0.1])"
     },
     "execution_count": 19,
     "metadata": {},
     "output_type": "execute_result"
    }
   ],
   "source": [
    "train_weights1 = my_lowess(\n",
    "    train_images_flat, \n",
    "    train_labels_flat, \n",
    "    knn1\n",
    ")\n",
    "train_weights1"
   ],
   "metadata": {
    "collapsed": false,
    "ExecuteTime": {
     "end_time": "2024-04-03T21:24:38.845738100Z",
     "start_time": "2024-04-03T21:14:19.830629800Z"
    }
   },
   "id": "80e6d3b98974384b"
  },
  {
   "cell_type": "code",
   "execution_count": 20,
   "outputs": [],
   "source": [
    "sampled_X = []\n",
    "sampled_y = []\n",
    "for i in range(len(train_images_flat)):\n",
    "    if train_weights1[i] == 1:\n",
    "        sampled_X.append(train_images_flat[i])\n",
    "        sampled_y.append(train_labels[i])\n",
    "        \n",
    "sampled_X_train = np.array(sampled_X)\n",
    "sampled_y_train = np.array(sampled_y)"
   ],
   "metadata": {
    "collapsed": false,
    "ExecuteTime": {
     "end_time": "2024-04-03T21:24:38.890648200Z",
     "start_time": "2024-04-03T21:24:38.849741100Z"
    }
   },
   "id": "2d0efc6f57dcc85c"
  },
  {
   "cell_type": "code",
   "execution_count": 24,
   "outputs": [
    {
     "name": "stderr",
     "output_type": "stream",
     "text": [
      "C:\\Users\\DNS\\PycharmProjects\\lab1-knn-sandrew-uj\\venv\\lib\\site-packages\\sklearn\\neighbors\\_classification.py:238: DataConversionWarning: A column-vector y was passed when a 1d array was expected. Please change the shape of y to (n_samples,), for example using ravel().\n",
      "  return self._fit(X, y)\n"
     ]
    },
    {
     "name": "stdout",
     "output_type": "stream",
     "text": [
      "with sampling = 0.212\n",
      "without sampling = 0.254\n"
     ]
    }
   ],
   "source": [
    "knn1.fit(sampled_X_train, sampled_y_train)\n",
    "y_pred = knn1.predict(test_images_flat)\n",
    "print(f\"with sampling = {accuracy_score(test_labels_flat, y_pred)}\")\n",
    "\n",
    "knn1.fit(train_images_flat, train_labels_flat)\n",
    "y_pred = knn1.predict(test_images_flat)\n",
    "print(f\"without sampling = {accuracy_score(test_labels_flat, y_pred)}\")"
   ],
   "metadata": {
    "collapsed": false,
    "ExecuteTime": {
     "end_time": "2024-04-03T21:33:50.175774200Z",
     "start_time": "2024-04-03T21:33:49.583486500Z"
    }
   },
   "id": "a6e5c0039be6c471"
  }
 ],
 "metadata": {
  "kernelspec": {
   "display_name": "Python 3",
   "language": "python",
   "name": "python3"
  },
  "language_info": {
   "codemirror_mode": {
    "name": "ipython",
    "version": 2
   },
   "file_extension": ".py",
   "mimetype": "text/x-python",
   "name": "python",
   "nbconvert_exporter": "python",
   "pygments_lexer": "ipython2",
   "version": "2.7.6"
  }
 },
 "nbformat": 4,
 "nbformat_minor": 5
}
